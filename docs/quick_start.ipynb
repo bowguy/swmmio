{
 "cells": [
  {
   "cell_type": "markdown",
   "metadata": {
    "vscode": {
     "languageId": "plaintext"
    }
   },
   "source": [
    "# Quick Start\n",
    "To get started with `swmmio`, you'll need a EPA SWMM input file (.inp). We'll an example model provided within `swmmio` and see what it looks like to get a `links` DataFrame.  "
   ]
  },
  {
   "cell_type": "code",
   "execution_count": 1,
   "metadata": {},
   "outputs": [
    {
     "data": {
      "text/html": [
       "<div>\n",
       "<style scoped>\n",
       "    .dataframe tbody tr th:only-of-type {\n",
       "        vertical-align: middle;\n",
       "    }\n",
       "\n",
       "    .dataframe tbody tr th {\n",
       "        vertical-align: top;\n",
       "    }\n",
       "\n",
       "    .dataframe thead th {\n",
       "        text-align: right;\n",
       "    }\n",
       "</style>\n",
       "<table border=\"1\" class=\"dataframe\">\n",
       "  <thead>\n",
       "    <tr style=\"text-align: right;\">\n",
       "      <th></th>\n",
       "      <th>InletNode</th>\n",
       "      <th>OutletNode</th>\n",
       "      <th>...</th>\n",
       "      <th>Barrels</th>\n",
       "      <th>coords</th>\n",
       "    </tr>\n",
       "    <tr>\n",
       "      <th>Name</th>\n",
       "      <th></th>\n",
       "      <th></th>\n",
       "      <th></th>\n",
       "      <th></th>\n",
       "      <th></th>\n",
       "    </tr>\n",
       "  </thead>\n",
       "  <tbody>\n",
       "    <tr>\n",
       "      <th>C1:C2</th>\n",
       "      <td>J1</td>\n",
       "      <td>J2</td>\n",
       "      <td>...</td>\n",
       "      <td>1.0</td>\n",
       "      <td>[(0.0, 0.0), (238.75, -53.332)]</td>\n",
       "    </tr>\n",
       "    <tr>\n",
       "      <th>C3</th>\n",
       "      <td>J3</td>\n",
       "      <td>J4</td>\n",
       "      <td>...</td>\n",
       "      <td>NaN</td>\n",
       "      <td>[(459.058, -113.145), (671.391, -163.985)]</td>\n",
       "    </tr>\n",
       "    <tr>\n",
       "      <th>C2</th>\n",
       "      <td>J2</td>\n",
       "      <td>J3</td>\n",
       "      <td>...</td>\n",
       "      <td>NaN</td>\n",
       "      <td>[(238.75, -53.332), (459.058, -113.145)]</td>\n",
       "    </tr>\n",
       "  </tbody>\n",
       "</table>\n",
       "<p>3 rows × 26 columns</p>\n",
       "</div>"
      ],
      "text/plain": [
       "      InletNode OutletNode  ...  Barrels  \\\n",
       "Name                        ...            \n",
       "C1:C2        J1         J2  ...      1.0   \n",
       "C3           J3         J4  ...      NaN   \n",
       "C2           J2         J3  ...      NaN   \n",
       "\n",
       "                                           coords  \n",
       "Name                                               \n",
       "C1:C2             [(0.0, 0.0), (238.75, -53.332)]  \n",
       "C3     [(459.058, -113.145), (671.391, -163.985)]  \n",
       "C2       [(238.75, -53.332), (459.058, -113.145)]  \n",
       "\n",
       "[3 rows x 26 columns]"
      ]
     },
     "execution_count": 1,
     "metadata": {},
     "output_type": "execute_result"
    }
   ],
   "source": [
    "from swmmio.tests.data import MODEL_FULL_FEATURES_PATH\n",
    "import swmmio\n",
    "\n",
    "# instantiate a model object\n",
    "model = swmmio.Model(MODEL_FULL_FEATURES_PATH)\n",
    "\n",
    "# get the data related to subcatchments\n",
    "model.links.dataframe"
   ]
  },
  {
   "cell_type": "markdown",
   "metadata": {},
   "source": [
    "Now let's use the lower-level `swmmio.Model.inp` API to access and modify the sections of the model. We'll change the outfall type to FIXED and set a stage elevation. \n"
   ]
  },
  {
   "cell_type": "code",
   "execution_count": 2,
   "metadata": {},
   "outputs": [
    {
     "data": {
      "text/html": [
       "<div>\n",
       "<style scoped>\n",
       "    .dataframe tbody tr th:only-of-type {\n",
       "        vertical-align: middle;\n",
       "    }\n",
       "\n",
       "    .dataframe tbody tr th {\n",
       "        vertical-align: top;\n",
       "    }\n",
       "\n",
       "    .dataframe thead th {\n",
       "        text-align: right;\n",
       "    }\n",
       "</style>\n",
       "<table border=\"1\" class=\"dataframe\">\n",
       "  <thead>\n",
       "    <tr style=\"text-align: right;\">\n",
       "      <th></th>\n",
       "      <th>InvertElev</th>\n",
       "      <th>OutfallType</th>\n",
       "      <th>StageOrTimeseries</th>\n",
       "    </tr>\n",
       "    <tr>\n",
       "      <th>Name</th>\n",
       "      <th></th>\n",
       "      <th></th>\n",
       "      <th></th>\n",
       "    </tr>\n",
       "  </thead>\n",
       "  <tbody>\n",
       "    <tr>\n",
       "      <th>J4</th>\n",
       "      <td>0</td>\n",
       "      <td>FREE</td>\n",
       "      <td>NO</td>\n",
       "    </tr>\n",
       "  </tbody>\n",
       "</table>\n",
       "</div>"
      ],
      "text/plain": [
       "      InvertElev OutfallType StageOrTimeseries\n",
       "Name                                          \n",
       "J4             0        FREE                NO"
      ]
     },
     "execution_count": 2,
     "metadata": {},
     "output_type": "execute_result"
    }
   ],
   "source": [
    "# here is the exsiting outfalls DataFrame\n",
    "model.inp.outfalls"
   ]
  },
  {
   "cell_type": "code",
   "execution_count": 3,
   "metadata": {},
   "outputs": [
    {
     "data": {
      "text/html": [
       "<div>\n",
       "<style scoped>\n",
       "    .dataframe tbody tr th:only-of-type {\n",
       "        vertical-align: middle;\n",
       "    }\n",
       "\n",
       "    .dataframe tbody tr th {\n",
       "        vertical-align: top;\n",
       "    }\n",
       "\n",
       "    .dataframe thead th {\n",
       "        text-align: right;\n",
       "    }\n",
       "</style>\n",
       "<table border=\"1\" class=\"dataframe\">\n",
       "  <thead>\n",
       "    <tr style=\"text-align: right;\">\n",
       "      <th></th>\n",
       "      <th>InvertElev</th>\n",
       "      <th>OutfallType</th>\n",
       "      <th>StageOrTimeseries</th>\n",
       "    </tr>\n",
       "    <tr>\n",
       "      <th>Name</th>\n",
       "      <th></th>\n",
       "      <th></th>\n",
       "      <th></th>\n",
       "    </tr>\n",
       "  </thead>\n",
       "  <tbody>\n",
       "    <tr>\n",
       "      <th>J4</th>\n",
       "      <td>0</td>\n",
       "      <td>FIXED</td>\n",
       "      <td>3.0</td>\n",
       "    </tr>\n",
       "  </tbody>\n",
       "</table>\n",
       "</div>"
      ],
      "text/plain": [
       "      InvertElev OutfallType StageOrTimeseries\n",
       "Name                                          \n",
       "J4             0       FIXED               3.0"
      ]
     },
     "execution_count": 3,
     "metadata": {},
     "output_type": "execute_result"
    }
   ],
   "source": [
    "# modify the outfall DataFrame\n",
    "model.inp.outfalls.loc['J4', 'OutfallType'] = 'FIXED'\n",
    "model.inp.outfalls.loc['J4', 'StageOrTimeseries'] = 3.0\n",
    "\n",
    "model.inp.outfalls"
   ]
  },
  {
   "cell_type": "markdown",
   "metadata": {},
   "source": [
    "We can then save our updated model to a new .inp file, then instantiate a new `swmmio.Model` object. "
   ]
  },
  {
   "cell_type": "code",
   "execution_count": 4,
   "metadata": {},
   "outputs": [
    {
     "data": {
      "text/html": [
       "<div>\n",
       "<style scoped>\n",
       "    .dataframe tbody tr th:only-of-type {\n",
       "        vertical-align: middle;\n",
       "    }\n",
       "\n",
       "    .dataframe tbody tr th {\n",
       "        vertical-align: top;\n",
       "    }\n",
       "\n",
       "    .dataframe thead th {\n",
       "        text-align: right;\n",
       "    }\n",
       "</style>\n",
       "<table border=\"1\" class=\"dataframe\">\n",
       "  <thead>\n",
       "    <tr style=\"text-align: right;\">\n",
       "      <th></th>\n",
       "      <th>InvertElev</th>\n",
       "      <th>MaxDepth</th>\n",
       "      <th>...</th>\n",
       "      <th>EvapFrac</th>\n",
       "      <th>coords</th>\n",
       "    </tr>\n",
       "    <tr>\n",
       "      <th>Name</th>\n",
       "      <th></th>\n",
       "      <th></th>\n",
       "      <th></th>\n",
       "      <th></th>\n",
       "      <th></th>\n",
       "    </tr>\n",
       "  </thead>\n",
       "  <tbody>\n",
       "    <tr>\n",
       "      <th>J1</th>\n",
       "      <td>20.728</td>\n",
       "      <td>15.0</td>\n",
       "      <td>...</td>\n",
       "      <td>NaN</td>\n",
       "      <td>[(0.0, 0.0)]</td>\n",
       "    </tr>\n",
       "    <tr>\n",
       "      <th>J3</th>\n",
       "      <td>6.547</td>\n",
       "      <td>15.0</td>\n",
       "      <td>...</td>\n",
       "      <td>NaN</td>\n",
       "      <td>[(459.058, -113.145)]</td>\n",
       "    </tr>\n",
       "    <tr>\n",
       "      <th>J4</th>\n",
       "      <td>0.000</td>\n",
       "      <td>NaN</td>\n",
       "      <td>...</td>\n",
       "      <td>NaN</td>\n",
       "      <td>[(671.391, -163.985)]</td>\n",
       "    </tr>\n",
       "    <tr>\n",
       "      <th>J2</th>\n",
       "      <td>13.392</td>\n",
       "      <td>NaN</td>\n",
       "      <td>...</td>\n",
       "      <td>0.0</td>\n",
       "      <td>[(238.75, -53.332)]</td>\n",
       "    </tr>\n",
       "  </tbody>\n",
       "</table>\n",
       "<p>4 rows × 14 columns</p>\n",
       "</div>"
      ],
      "text/plain": [
       "      InvertElev  MaxDepth  ...  EvapFrac                 coords\n",
       "Name                        ...                                 \n",
       "J1        20.728      15.0  ...       NaN           [(0.0, 0.0)]\n",
       "J3         6.547      15.0  ...       NaN  [(459.058, -113.145)]\n",
       "J4         0.000       NaN  ...       NaN  [(671.391, -163.985)]\n",
       "J2        13.392       NaN  ...       0.0    [(238.75, -53.332)]\n",
       "\n",
       "[4 rows x 14 columns]"
      ]
     },
     "execution_count": 4,
     "metadata": {},
     "output_type": "execute_result"
    }
   ],
   "source": [
    "model.inp.save('new_model.inp')\n",
    "\n",
    "# instantiate a new Model object with the modified inp file\n",
    "new_model = swmmio.Model('new_model.inp')\n",
    "\n",
    "# see the changes in the higher-level nodes DataFrame\n",
    "new_model.nodes.dataframe "
   ]
  }
 ],
 "metadata": {
  "kernelspec": {
   "display_name": "venv",
   "language": "python",
   "name": "python3"
  },
  "language_info": {
   "codemirror_mode": {
    "name": "ipython",
    "version": 3
   },
   "file_extension": ".py",
   "mimetype": "text/x-python",
   "name": "python",
   "nbconvert_exporter": "python",
   "pygments_lexer": "ipython3",
   "version": "3.11.4"
  }
 },
 "nbformat": 4,
 "nbformat_minor": 2
}
