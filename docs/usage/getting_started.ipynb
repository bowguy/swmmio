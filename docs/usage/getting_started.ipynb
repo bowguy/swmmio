{
 "cells": [
  {
   "cell_type": "markdown",
   "metadata": {
    "vscode": {
     "languageId": "plaintext"
    }
   },
   "source": [
    "# Getting Started\n",
    "To get started with `swmmio`, you'll need a EPA SWMM input file (.inp). We'll use an example model provided within `swmmio` and see what it looks like to get a {py:obj}`Model.links <swmmio.core.Model.links>` DataFrame, "
   ]
  },
  {
   "cell_type": "code",
   "execution_count": 9,
   "metadata": {},
   "outputs": [
    {
     "data": {
      "text/html": [
       "<div>\n",
       "<style scoped>\n",
       "    .dataframe tbody tr th:only-of-type {\n",
       "        vertical-align: middle;\n",
       "    }\n",
       "\n",
       "    .dataframe tbody tr th {\n",
       "        vertical-align: top;\n",
       "    }\n",
       "\n",
       "    .dataframe thead th {\n",
       "        text-align: right;\n",
       "    }\n",
       "</style>\n",
       "<table border=\"1\" class=\"dataframe\">\n",
       "  <thead>\n",
       "    <tr style=\"text-align: right;\">\n",
       "      <th></th>\n",
       "      <th>InletNode</th>\n",
       "      <th>OutletNode</th>\n",
       "      <th>Length</th>\n",
       "      <th>Roughness</th>\n",
       "      <th>InOffset</th>\n",
       "      <th>OutOffset</th>\n",
       "      <th>InitFlow</th>\n",
       "      <th>...</th>\n",
       "      <th>Shape</th>\n",
       "      <th>Geom1</th>\n",
       "      <th>Geom2</th>\n",
       "      <th>Geom3</th>\n",
       "      <th>Geom4</th>\n",
       "      <th>Barrels</th>\n",
       "      <th>coords</th>\n",
       "    </tr>\n",
       "    <tr>\n",
       "      <th>Name</th>\n",
       "      <th></th>\n",
       "      <th></th>\n",
       "      <th></th>\n",
       "      <th></th>\n",
       "      <th></th>\n",
       "      <th></th>\n",
       "      <th></th>\n",
       "      <th></th>\n",
       "      <th></th>\n",
       "      <th></th>\n",
       "      <th></th>\n",
       "      <th></th>\n",
       "      <th></th>\n",
       "      <th></th>\n",
       "      <th></th>\n",
       "    </tr>\n",
       "  </thead>\n",
       "  <tbody>\n",
       "    <tr>\n",
       "      <th>C1:C2</th>\n",
       "      <td>J1</td>\n",
       "      <td>J2</td>\n",
       "      <td>244.63</td>\n",
       "      <td>0.01</td>\n",
       "      <td>0.0</td>\n",
       "      <td>0.0</td>\n",
       "      <td>0.0</td>\n",
       "      <td>...</td>\n",
       "      <td>CIRCULAR</td>\n",
       "      <td>1.0</td>\n",
       "      <td>0.0</td>\n",
       "      <td>0.0</td>\n",
       "      <td>0.0</td>\n",
       "      <td>1.0</td>\n",
       "      <td>[(0.0, 0.0), (238.75, -53.332)]</td>\n",
       "    </tr>\n",
       "    <tr>\n",
       "      <th>C3</th>\n",
       "      <td>J3</td>\n",
       "      <td>J4</td>\n",
       "      <td>NaN</td>\n",
       "      <td>NaN</td>\n",
       "      <td>NaN</td>\n",
       "      <td>NaN</td>\n",
       "      <td>NaN</td>\n",
       "      <td>...</td>\n",
       "      <td>RECT_OPEN</td>\n",
       "      <td>5.0</td>\n",
       "      <td>1.0</td>\n",
       "      <td>0.0</td>\n",
       "      <td>0.0</td>\n",
       "      <td>NaN</td>\n",
       "      <td>[(459.058, -113.145), (671.391, -163.985)]</td>\n",
       "    </tr>\n",
       "    <tr>\n",
       "      <th>C2</th>\n",
       "      <td>J2</td>\n",
       "      <td>J3</td>\n",
       "      <td>NaN</td>\n",
       "      <td>NaN</td>\n",
       "      <td>NaN</td>\n",
       "      <td>NaN</td>\n",
       "      <td>NaN</td>\n",
       "      <td>...</td>\n",
       "      <td>NaN</td>\n",
       "      <td>NaN</td>\n",
       "      <td>NaN</td>\n",
       "      <td>NaN</td>\n",
       "      <td>NaN</td>\n",
       "      <td>NaN</td>\n",
       "      <td>[(238.75, -53.332), (459.058, -113.145)]</td>\n",
       "    </tr>\n",
       "  </tbody>\n",
       "</table>\n",
       "<p>3 rows × 26 columns</p>\n",
       "</div>"
      ],
      "text/plain": [
       "      InletNode OutletNode  Length  Roughness  InOffset  OutOffset  InitFlow  \\\n",
       "Name                                                                           \n",
       "C1:C2        J1         J2  244.63       0.01       0.0        0.0       0.0   \n",
       "C3           J3         J4     NaN        NaN       NaN        NaN       NaN   \n",
       "C2           J2         J3     NaN        NaN       NaN        NaN       NaN   \n",
       "\n",
       "       ...      Shape Geom1  Geom2  Geom3 Geom4  Barrels  \\\n",
       "Name   ...                                                 \n",
       "C1:C2  ...   CIRCULAR   1.0    0.0    0.0   0.0      1.0   \n",
       "C3     ...  RECT_OPEN   5.0    1.0    0.0   0.0      NaN   \n",
       "C2     ...        NaN   NaN    NaN    NaN   NaN      NaN   \n",
       "\n",
       "                                           coords  \n",
       "Name                                               \n",
       "C1:C2             [(0.0, 0.0), (238.75, -53.332)]  \n",
       "C3     [(459.058, -113.145), (671.391, -163.985)]  \n",
       "C2       [(238.75, -53.332), (459.058, -113.145)]  \n",
       "\n",
       "[3 rows x 26 columns]"
      ]
     },
     "execution_count": 9,
     "metadata": {},
     "output_type": "execute_result"
    }
   ],
   "source": [
    "from swmmio.tests.data import MODEL_FULL_FEATURES_PATH\n",
    "import swmmio\n",
    "\n",
    "# instantiate a model object\n",
    "model = swmmio.Model(MODEL_FULL_FEATURES_PATH)\n",
    "\n",
    "# get the data related to links\n",
    "model.links.dataframe"
   ]
  },
  {
   "cell_type": "markdown",
   "metadata": {},
   "source": [
    "## Edit Model Parameters\n",
    "\n",
    "Now let's use the lower-level {py:obj}`Model.inp <swmmio.core.inp>` API to access and modify the sections of the model. We'll change the outfall type to FIXED and set a stage elevation. \n",
    "\n",
    ":::{note}\n",
    "The {py:class}`Model.inp <swmmio.core.inp>` API has coverage for almost all sections of the INP file. If you find that a section isn't covered that you need, raise an issue [here](https://github.com/pyswmm/swmmio/issues)!\n",
    ":::"
   ]
  },
  {
   "cell_type": "code",
   "execution_count": 10,
   "metadata": {},
   "outputs": [
    {
     "data": {
      "text/html": [
       "<div>\n",
       "<style scoped>\n",
       "    .dataframe tbody tr th:only-of-type {\n",
       "        vertical-align: middle;\n",
       "    }\n",
       "\n",
       "    .dataframe tbody tr th {\n",
       "        vertical-align: top;\n",
       "    }\n",
       "\n",
       "    .dataframe thead th {\n",
       "        text-align: right;\n",
       "    }\n",
       "</style>\n",
       "<table border=\"1\" class=\"dataframe\">\n",
       "  <thead>\n",
       "    <tr style=\"text-align: right;\">\n",
       "      <th></th>\n",
       "      <th>InvertElev</th>\n",
       "      <th>OutfallType</th>\n",
       "      <th>StageOrTimeseries</th>\n",
       "    </tr>\n",
       "    <tr>\n",
       "      <th>Name</th>\n",
       "      <th></th>\n",
       "      <th></th>\n",
       "      <th></th>\n",
       "    </tr>\n",
       "  </thead>\n",
       "  <tbody>\n",
       "    <tr>\n",
       "      <th>J4</th>\n",
       "      <td>0</td>\n",
       "      <td>FREE</td>\n",
       "      <td>NO</td>\n",
       "    </tr>\n",
       "  </tbody>\n",
       "</table>\n",
       "</div>"
      ],
      "text/plain": [
       "      InvertElev OutfallType StageOrTimeseries\n",
       "Name                                          \n",
       "J4             0        FREE                NO"
      ]
     },
     "execution_count": 10,
     "metadata": {},
     "output_type": "execute_result"
    }
   ],
   "source": [
    "# here is the exsiting outfalls DataFrame\n",
    "model.inp.outfalls"
   ]
  },
  {
   "cell_type": "code",
   "execution_count": 11,
   "metadata": {},
   "outputs": [
    {
     "data": {
      "text/html": [
       "<div>\n",
       "<style scoped>\n",
       "    .dataframe tbody tr th:only-of-type {\n",
       "        vertical-align: middle;\n",
       "    }\n",
       "\n",
       "    .dataframe tbody tr th {\n",
       "        vertical-align: top;\n",
       "    }\n",
       "\n",
       "    .dataframe thead th {\n",
       "        text-align: right;\n",
       "    }\n",
       "</style>\n",
       "<table border=\"1\" class=\"dataframe\">\n",
       "  <thead>\n",
       "    <tr style=\"text-align: right;\">\n",
       "      <th></th>\n",
       "      <th>InvertElev</th>\n",
       "      <th>OutfallType</th>\n",
       "      <th>StageOrTimeseries</th>\n",
       "    </tr>\n",
       "    <tr>\n",
       "      <th>Name</th>\n",
       "      <th></th>\n",
       "      <th></th>\n",
       "      <th></th>\n",
       "    </tr>\n",
       "  </thead>\n",
       "  <tbody>\n",
       "    <tr>\n",
       "      <th>J4</th>\n",
       "      <td>0</td>\n",
       "      <td>FIXED</td>\n",
       "      <td>3.0</td>\n",
       "    </tr>\n",
       "  </tbody>\n",
       "</table>\n",
       "</div>"
      ],
      "text/plain": [
       "      InvertElev OutfallType StageOrTimeseries\n",
       "Name                                          \n",
       "J4             0       FIXED               3.0"
      ]
     },
     "execution_count": 11,
     "metadata": {},
     "output_type": "execute_result"
    }
   ],
   "source": [
    "# modify the outfall DataFrame\n",
    "model.inp.outfalls.loc['J4', 'OutfallType'] = 'FIXED'\n",
    "model.inp.outfalls.loc['J4', 'StageOrTimeseries'] = 3.0\n",
    "\n",
    "model.inp.outfalls"
   ]
  },
  {
   "cell_type": "markdown",
   "metadata": {},
   "source": [
    "We can then save our updated model to a new .inp file, then instantiate a new {py:class}`~swmmio.core.Model` object. "
   ]
  },
  {
   "cell_type": "code",
   "execution_count": 12,
   "metadata": {},
   "outputs": [
    {
     "data": {
      "text/html": [
       "<div>\n",
       "<style scoped>\n",
       "    .dataframe tbody tr th:only-of-type {\n",
       "        vertical-align: middle;\n",
       "    }\n",
       "\n",
       "    .dataframe tbody tr th {\n",
       "        vertical-align: top;\n",
       "    }\n",
       "\n",
       "    .dataframe thead th {\n",
       "        text-align: right;\n",
       "    }\n",
       "</style>\n",
       "<table border=\"1\" class=\"dataframe\">\n",
       "  <thead>\n",
       "    <tr style=\"text-align: right;\">\n",
       "      <th></th>\n",
       "      <th>InvertElev</th>\n",
       "      <th>OutfallType</th>\n",
       "      <th>StageOrTimeseries</th>\n",
       "    </tr>\n",
       "    <tr>\n",
       "      <th>Name</th>\n",
       "      <th></th>\n",
       "      <th></th>\n",
       "      <th></th>\n",
       "    </tr>\n",
       "  </thead>\n",
       "  <tbody>\n",
       "    <tr>\n",
       "      <th>J1</th>\n",
       "      <td>20.728</td>\n",
       "      <td>NaN</td>\n",
       "      <td>NaN</td>\n",
       "    </tr>\n",
       "    <tr>\n",
       "      <th>J3</th>\n",
       "      <td>6.547</td>\n",
       "      <td>NaN</td>\n",
       "      <td>NaN</td>\n",
       "    </tr>\n",
       "    <tr>\n",
       "      <th>J4</th>\n",
       "      <td>0.000</td>\n",
       "      <td>FIXED</td>\n",
       "      <td>3.0</td>\n",
       "    </tr>\n",
       "    <tr>\n",
       "      <th>J2</th>\n",
       "      <td>13.392</td>\n",
       "      <td>NaN</td>\n",
       "      <td>NaN</td>\n",
       "    </tr>\n",
       "  </tbody>\n",
       "</table>\n",
       "</div>"
      ],
      "text/plain": [
       "      InvertElev OutfallType  StageOrTimeseries\n",
       "Name                                           \n",
       "J1        20.728         NaN                NaN\n",
       "J3         6.547         NaN                NaN\n",
       "J4         0.000       FIXED                3.0\n",
       "J2        13.392         NaN                NaN"
      ]
     },
     "execution_count": 12,
     "metadata": {},
     "output_type": "execute_result"
    }
   ],
   "source": [
    "model.inp.save('new_model.inp')\n",
    "\n",
    "# instantiate a new Model object with the modified inp file\n",
    "new_model = swmmio.Model('new_model.inp')\n",
    "\n",
    "# see the changes in the higher-level nodes DataFrame\n",
    "new_model.nodes.dataframe[['InvertElev','OutfallType', 'StageOrTimeseries']]"
   ]
  },
  {
   "cell_type": "markdown",
   "metadata": {},
   "source": [
    "## Building Variations of Models\n",
    "Starting with a base SWMM model, other models can be created by inserting altered data into a new inp file. Useful for sensitivity analysis or varying boundary conditions, models can be created using a fairly simple loop.\n",
    "\n",
    "For example, climate change impacts can be investigated by creating a set of models with varying outfall Fixed Stage elevations:\n"
   ]
  },
  {
   "cell_type": "code",
   "execution_count": 25,
   "metadata": {},
   "outputs": [
    {
     "data": {
      "text/html": [
       "<div>\n",
       "<style scoped>\n",
       "    .dataframe tbody tr th:only-of-type {\n",
       "        vertical-align: middle;\n",
       "    }\n",
       "\n",
       "    .dataframe tbody tr th {\n",
       "        vertical-align: top;\n",
       "    }\n",
       "\n",
       "    .dataframe thead th {\n",
       "        text-align: right;\n",
       "    }\n",
       "</style>\n",
       "<table border=\"1\" class=\"dataframe\">\n",
       "  <thead>\n",
       "    <tr style=\"text-align: right;\">\n",
       "      <th></th>\n",
       "      <th>InvertElev</th>\n",
       "      <th>OutfallType</th>\n",
       "      <th>StageOrTimeseries</th>\n",
       "    </tr>\n",
       "    <tr>\n",
       "      <th>Name</th>\n",
       "      <th></th>\n",
       "      <th></th>\n",
       "      <th></th>\n",
       "    </tr>\n",
       "  </thead>\n",
       "  <tbody>\n",
       "    <tr>\n",
       "      <th>KRO2005</th>\n",
       "      <td>574.32</td>\n",
       "      <td>FIXED</td>\n",
       "      <td>581.0</td>\n",
       "    </tr>\n",
       "    <tr>\n",
       "      <th>PSO</th>\n",
       "      <td>548.36</td>\n",
       "      <td>FIXED</td>\n",
       "      <td>581.0</td>\n",
       "    </tr>\n",
       "  </tbody>\n",
       "</table>\n",
       "</div>"
      ],
      "text/plain": [
       "         InvertElev OutfallType  StageOrTimeseries\n",
       "Name                                              \n",
       "KRO2005      574.32       FIXED              581.0\n",
       "PSO          548.36       FIXED              581.0"
      ]
     },
     "execution_count": 25,
     "metadata": {},
     "output_type": "execute_result"
    }
   ],
   "source": [
    "import os\n",
    "\n",
    "# path to a SWMM model from swmm-nrtestsuite\n",
    "model_path = 'https://raw.githubusercontent.com/USEPA/swmm-nrtestsuite/refs/heads/dev/public/examples/Example3.inp'\n",
    "\n",
    "# initialize a model object\n",
    "model = swmmio.Model(model_path)\n",
    "\n",
    "sea_level_rise = 0.0 # set the starting sea level rise condition\n",
    "rise_increment = 0.25 # set the increment of sea level rise for each iteration\n",
    "\n",
    "# set the outfall type and initial outfall stage elevation\n",
    "model.inp.outfalls.loc[:, 'OutfallType'] = 'FIXED'\n",
    "model.inp.outfalls.loc[:, 'StageOrTimeseries'] = 576\n",
    "\n",
    "# create models up to 5ft of sea level rise.\n",
    "while sea_level_rise < 5:\n",
    "\n",
    "    # create a dataframe of the model's outfalls\n",
    "    outfalls = model.inp.outfalls\n",
    "    # add the current rise to the outfalls' stage elevation\n",
    "    outfalls.loc[:, 'StageOrTimeseries'] = outfalls.loc[:, 'StageOrTimeseries'] + rise_increment\n",
    "    model.inp.outfalls = outfalls\n",
    "    \n",
    "    # create the filename for the new model\n",
    "    newfilepath = os.path.join(model.inp.dir, f'{model.inp.name}_{sea_level_rise}_SLR.inp')\n",
    "    \n",
    "    # Overwrite the OUTFALLS section of the new model with the adjusted data\n",
    "    model.inp.save(newfilepath)\n",
    "\n",
    "    # increase sea level rise for the next loop\n",
    "    sea_level_rise += rise_increment\n",
    "\n",
    "# check the outfalls of the last sea level rise \n",
    "# scenario that includes 5 feet of sea level rise\n",
    "model_slr_5 = swmmio.Model(newfilepath)\n",
    "model_slr_5.inp.outfalls"
   ]
  },
  {
   "cell_type": "markdown",
   "metadata": {},
   "source": [
    "## Nodes and Links\n",
    "Specific sections of data from the inp and rpt can be extracted with `Nodes` and `Links` objects. Although these are the same object-type of the {py:meth}`swmmio.core.Model.nodes` and {py:meth}`swmmio.core.Model.links`, accessing them directly allows for custom control over what sections of data are retrieved. "
   ]
  },
  {
   "cell_type": "code",
   "execution_count": 14,
   "metadata": {},
   "outputs": [
    {
     "data": {
      "text/html": [
       "<div>\n",
       "<style scoped>\n",
       "    .dataframe tbody tr th:only-of-type {\n",
       "        vertical-align: middle;\n",
       "    }\n",
       "\n",
       "    .dataframe tbody tr th {\n",
       "        vertical-align: top;\n",
       "    }\n",
       "\n",
       "    .dataframe thead th {\n",
       "        text-align: right;\n",
       "    }\n",
       "</style>\n",
       "<table border=\"1\" class=\"dataframe\">\n",
       "  <thead>\n",
       "    <tr style=\"text-align: right;\">\n",
       "      <th></th>\n",
       "      <th>InvertElev</th>\n",
       "      <th>MaxDepth</th>\n",
       "      <th>InitDepth</th>\n",
       "      <th>SurchargeDepth</th>\n",
       "      <th>geometry</th>\n",
       "    </tr>\n",
       "    <tr>\n",
       "      <th>Name</th>\n",
       "      <th></th>\n",
       "      <th></th>\n",
       "      <th></th>\n",
       "      <th></th>\n",
       "      <th></th>\n",
       "    </tr>\n",
       "  </thead>\n",
       "  <tbody>\n",
       "    <tr>\n",
       "      <th>KRO3001</th>\n",
       "      <td>556.19</td>\n",
       "      <td>10.0</td>\n",
       "      <td>0.0</td>\n",
       "      <td>0.0</td>\n",
       "      <td>POINT (1362408.25 431113.81)</td>\n",
       "    </tr>\n",
       "    <tr>\n",
       "      <th>KRO6015</th>\n",
       "      <td>585.98</td>\n",
       "      <td>8.0</td>\n",
       "      <td>0.0</td>\n",
       "      <td>0.0</td>\n",
       "      <td>POINT (1362748.63 428675.19)</td>\n",
       "    </tr>\n",
       "    <tr>\n",
       "      <th>KRO6016</th>\n",
       "      <td>584.14</td>\n",
       "      <td>9.0</td>\n",
       "      <td>0.0</td>\n",
       "      <td>0.0</td>\n",
       "      <td>POINT (1362767 428813.59)</td>\n",
       "    </tr>\n",
       "    <tr>\n",
       "      <th>KRO6017</th>\n",
       "      <td>582.01</td>\n",
       "      <td>14.0</td>\n",
       "      <td>0.0</td>\n",
       "      <td>0.0</td>\n",
       "      <td>POINT (1363087.25 428778.19)</td>\n",
       "    </tr>\n",
       "    <tr>\n",
       "      <th>KRO1002</th>\n",
       "      <td>594.89</td>\n",
       "      <td>3.0</td>\n",
       "      <td>0.0</td>\n",
       "      <td>0.0</td>\n",
       "      <td>POINT (1362361.78 429189.37)</td>\n",
       "    </tr>\n",
       "  </tbody>\n",
       "</table>\n",
       "</div>"
      ],
      "text/plain": [
       "         InvertElev  MaxDepth  InitDepth  SurchargeDepth  \\\n",
       "Name                                                       \n",
       "KRO3001      556.19      10.0        0.0             0.0   \n",
       "KRO6015      585.98       8.0        0.0             0.0   \n",
       "KRO6016      584.14       9.0        0.0             0.0   \n",
       "KRO6017      582.01      14.0        0.0             0.0   \n",
       "KRO1002      594.89       3.0        0.0             0.0   \n",
       "\n",
       "                             geometry  \n",
       "Name                                   \n",
       "KRO3001  POINT (1362408.25 431113.81)  \n",
       "KRO6015  POINT (1362748.63 428675.19)  \n",
       "KRO6016     POINT (1362767 428813.59)  \n",
       "KRO6017  POINT (1363087.25 428778.19)  \n",
       "KRO1002  POINT (1362361.78 429189.37)  "
      ]
     },
     "execution_count": 14,
     "metadata": {},
     "output_type": "execute_result"
    }
   ],
   "source": [
    "from swmmio import Model, Nodes\n",
    "m = Model(model_path)\n",
    "\n",
    "# pass custom init arguments into the Nodes object instead of using default settings referenced by m.nodes() \n",
    "nodes = Nodes(\n",
    "    model=m, \n",
    "    inp_sections=['junctions', 'storage', 'outfalls'],\n",
    "    rpt_sections=['Node Depth Summary', 'Node Inflow Summary'],\n",
    "    columns=[ 'InvertElev', 'MaxDepth', 'InitDepth', 'SurchargeDepth', 'MaxTotalInflow', 'coords']\n",
    ")\n",
    "\n",
    "# access data \n",
    "nodes.geodataframe.head()"
   ]
  },
  {
   "cell_type": "markdown",
   "metadata": {},
   "source": [
    "## Access Model Network as Graph\n",
    "The {py:obj}`~swmmio.core.Model` class returns a Networkx MultiDiGraph representation of the model via that {py:meth}`Model.network <swmmio.core.Model.network>` parameter:"
   ]
  },
  {
   "cell_type": "code",
   "execution_count": 15,
   "metadata": {},
   "outputs": [
    {
     "name": "stdout",
     "output_type": "stream",
     "text": [
      "KRO3001 SU1 KRO3001-KRO3002 {'Length': 176.7171053, 'Roughness': 0.013, 'InOffset': 0.0, 'OutOffset': 5.0, 'InitFlow': 0.0, 'PumpCurve': nan, 'InitStatus': nan, 'Shape': 'CIRCULAR', 'Geom1': 1.0, 'Geom2': 0.0, 'Geom3': 0.0, 'Geom4': 0.0, 'Barrels': 1.0, 'coords': [(np.float64(1362408.25), np.float64(431113.81)), (np.float64(1362652.04), np.float64(431078.91))], 'facilityid': 'KRO3001-KRO3002', 'geometry': {\"coordinates\": [[1362408.25, 431113.81], [1362652.04, 431078.91]], \"type\": \"LineString\"}}\n"
     ]
    }
   ],
   "source": [
    "# access the model as a Networkx MutliDiGraph\n",
    "model = Model(model_path)\n",
    "G = model.network\n",
    "\n",
    "# iterate through links\n",
    "for u, v, key, data in model.network.edges(data=True, keys=True):\n",
    "    # do stuff with the network\n",
    "    print(u, v, key, data)\n",
    "    break\n"
   ]
  },
  {
   "cell_type": "code",
   "execution_count": 16,
   "metadata": {},
   "outputs": [
    {
     "data": {
      "image/png": "[encoded data removed]",
      "text/plain": [
       "<Figure size 500x200 with 1 Axes>"
      ]
     },
     "metadata": {},
     "output_type": "display_data"
    }
   ],
   "source": [
    "# visualize the graph\n",
    "import matplotlib.pyplot as plt\n",
    "import networkx as nx\n",
    "# Draw the graph\n",
    "pos = nx.spring_layout(G, k=30)\n",
    "\n",
    "plt.figure(figsize=(5, 2))\n",
    "nx.draw(G, node_size=10, node_color='blue', with_labels=False)\n",
    "plt.show()"
   ]
  },
  {
   "cell_type": "markdown",
   "metadata": {},
   "source": [
    "For a more interesting example takes advantage of the graph-representation of a model, see [Visualizing SWMM Models](visualizing_models.ipynb). "
   ]
  },
  {
   "cell_type": "markdown",
   "metadata": {},
   "source": [
    "## Running Models\n",
    "Using the command line tool, individual SWMM5 models can be run by invoking the swmmio module in your shell as such:\n",
    "```shell\n",
    "python -m swmmio --run path/to/mymodel.inp\n",
    "```\n",
    "If you have many models to run and would like to take advantage of your machine's cores, you can start a pool of simulations with the `--start_pool` (or `-sp`) command. After pointing `-sp` to one or more directories, swmmio will search for SWMM .inp files and add all them to a multiprocessing pool. By default, `-sp` leaves 4 of your machine's cores unused. This can be changed via the `-cores_left` argument.\n",
    "```shell\n",
    "# run all models in models in directories Model_Dir1 Model_Dir2\n",
    "python -m swmmio -sp Model_Dir1 Model_Dir2  \n",
    "\n",
    "# leave 1 core unused\n",
    "python -m swmmio -sp Model_Dir1 Model_Dir2  -cores_left=1\n",
    "```\n",
    "\n",
    ":::{warning}\n",
    "Using all cores for simultaneous model runs can put your machine's CPU usage at 100% for extended periods of time. This probably puts stress on your hardware. Use at your own risk.\n",
    ":::\n"
   ]
  },
  {
   "cell_type": "markdown",
   "metadata": {},
   "source": []
  }
 ],
 "metadata": {
  "kernelspec": {
   "display_name": "venv",
   "language": "python",
   "name": "python3"
  },
  "language_info": {
   "codemirror_mode": {
    "name": "ipython",
    "version": 3
   },
   "file_extension": ".py",
   "mimetype": "text/x-python",
   "name": "python",
   "nbconvert_exporter": "python",
   "pygments_lexer": "ipython3",
   "version": "3.11.4"
  }
 },
 "nbformat": 4,
 "nbformat_minor": 2
}
