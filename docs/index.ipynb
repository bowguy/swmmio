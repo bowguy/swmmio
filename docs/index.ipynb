{
 "cells": [
  {
   "cell_type": "markdown",
   "metadata": {},
   "source": [
    "# swmmio \n",
    "_Programmatic pre and post processing for EPA Stormwater Management Model (SWMM)_\n",
    "\n",
    "![image](_static/img/swmm-zoom-graphic.png)\n",
    "\n",
    "\n",
    "## Introduction\n",
    "`swmmio` is a Python tool for engineers and hydrologists who need to supercharge their ability to modify and analyze EPA SWMM models and results. Using a familiar Pandas interface, users can replace manual procesess that used to live in spreadsheets with scripts and automation.\n",
    "\n",
    "The core {py:class}`~swmmio.core.Model` object provides accessors to related elements in the INP and RPT. For example, the {py:obj}`Model.subcatchments <swmmio.core.Model.subcatchments>` property provides a {py:obj}`~pandas.DataFrame` (or GeoDataFrame) accessor joining data from the `[SUBCATCHMENTS]` and `[SUBAREAS]` tables in the model.inp file and, if available, the `Subcatchment Runoff Summary` from the model.rpt file. \n",
    "\n",
    "Additionally, `swmmio` provides a lower-level {py:class}`~swmmio.core.inp` API for reading and writing (almost) all of the sections of the model.inp file which is useful for programmatically modifying EPA SWMM models.\n",
    "\n",
    "\n",
    "## Installation\n",
    "```bash\n",
    "pip install swmmio\n",
    "``` \n",
    "\n",
    "For more examples and tutorials, see the [User Guide](usage/index.md) section."
   ]
  },
  {
   "cell_type": "code",
   "execution_count": null,
   "metadata": {},
   "outputs": [],
   "source": []
  },
  {
   "cell_type": "markdown",
   "metadata": {},
   "source": [
    "```{toctree}\n",
    "---\n",
    "maxdepth: 2\n",
    "hidden: \n",
    "---\n",
    "usage/index\n",
    "reference/index\n",
    "changelog\n",
    "```"
   ]
  }
 ],
 "metadata": {
  "kernelspec": {
   "display_name": "venv",
   "language": "python",
   "name": "python3"
  },
  "language_info": {
   "codemirror_mode": {
    "name": "ipython",
    "version": 3
   },
   "file_extension": ".py",
   "mimetype": "text/x-python",
   "name": "python",
   "nbconvert_exporter": "python",
   "pygments_lexer": "ipython3",
   "version": "3.11.4"
  }
 },
 "nbformat": 4,
 "nbformat_minor": 2
}
